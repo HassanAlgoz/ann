{
 "cells": [
  {
   "cell_type": "markdown",
   "id": "c4de96cb",
   "metadata": {},
   "source": [
    "### Objectives\n",
    "\n",
    "1. Learn to build a deep neural network in PyTorch (`nn.Module`)\n",
    "2. Learn to train the model (on training data) and evaluate it (on test data)\n",
    "3. Learn about several numerical problems in deep learning:\n",
    "    - exploding / vanishing gradient (stops learning)\n",
    "    - slow learning"
   ]
  },
  {
   "attachments": {},
   "cell_type": "markdown",
   "id": "f56f625a",
   "metadata": {},
   "source": [
    "### Section 1: Load and explore the data"
   ]
  },
  {
   "cell_type": "code",
   "execution_count": 2,
   "id": "bca61e5c",
   "metadata": {},
   "outputs": [],
   "source": [
    "import pandas as pd\n",
    "\n",
    "df_train = pd.read_csv(\"./data/Training set.csv\")\n",
    "df_test = pd.read_csv(\"./data/Test set.csv\")"
   ]
  },
  {
   "cell_type": "code",
   "execution_count": 3,
   "id": "b8f96b11",
   "metadata": {},
   "outputs": [
    {
     "data": {
      "text/html": [
       "<div>\n",
       "<style scoped>\n",
       "    .dataframe tbody tr th:only-of-type {\n",
       "        vertical-align: middle;\n",
       "    }\n",
       "\n",
       "    .dataframe tbody tr th {\n",
       "        vertical-align: top;\n",
       "    }\n",
       "\n",
       "    .dataframe thead th {\n",
       "        text-align: right;\n",
       "    }\n",
       "</style>\n",
       "<table border=\"1\" class=\"dataframe\">\n",
       "  <thead>\n",
       "    <tr style=\"text-align: right;\">\n",
       "      <th></th>\n",
       "      <th>Height</th>\n",
       "      <th>Weight</th>\n",
       "      <th>Sex</th>\n",
       "    </tr>\n",
       "  </thead>\n",
       "  <tbody>\n",
       "    <tr>\n",
       "      <th>0</th>\n",
       "      <td>165.65</td>\n",
       "      <td>35.41</td>\n",
       "      <td>Female</td>\n",
       "    </tr>\n",
       "    <tr>\n",
       "      <th>1</th>\n",
       "      <td>148.53</td>\n",
       "      <td>74.45</td>\n",
       "      <td>Female</td>\n",
       "    </tr>\n",
       "    <tr>\n",
       "      <th>2</th>\n",
       "      <td>167.04</td>\n",
       "      <td>81.22</td>\n",
       "      <td>Male</td>\n",
       "    </tr>\n",
       "    <tr>\n",
       "      <th>3</th>\n",
       "      <td>161.54</td>\n",
       "      <td>71.47</td>\n",
       "      <td>Male</td>\n",
       "    </tr>\n",
       "    <tr>\n",
       "      <th>4</th>\n",
       "      <td>174.31</td>\n",
       "      <td>78.18</td>\n",
       "      <td>Male</td>\n",
       "    </tr>\n",
       "  </tbody>\n",
       "</table>\n",
       "</div>"
      ],
      "text/plain": [
       "   Height  Weight     Sex\n",
       "0  165.65   35.41  Female\n",
       "1  148.53   74.45  Female\n",
       "2  167.04   81.22    Male\n",
       "3  161.54   71.47    Male\n",
       "4  174.31   78.18    Male"
      ]
     },
     "execution_count": 3,
     "metadata": {},
     "output_type": "execute_result"
    }
   ],
   "source": [
    "df_train.head()"
   ]
  },
  {
   "cell_type": "code",
   "execution_count": 94,
   "id": "9567fbb7",
   "metadata": {},
   "outputs": [
    {
     "data": {
      "text/html": [
       "<div>\n",
       "<style scoped>\n",
       "    .dataframe tbody tr th:only-of-type {\n",
       "        vertical-align: middle;\n",
       "    }\n",
       "\n",
       "    .dataframe tbody tr th {\n",
       "        vertical-align: top;\n",
       "    }\n",
       "\n",
       "    .dataframe thead th {\n",
       "        text-align: right;\n",
       "    }\n",
       "</style>\n",
       "<table border=\"1\" class=\"dataframe\">\n",
       "  <thead>\n",
       "    <tr style=\"text-align: right;\">\n",
       "      <th></th>\n",
       "      <th>Height</th>\n",
       "      <th>Weight</th>\n",
       "      <th>Sex</th>\n",
       "    </tr>\n",
       "  </thead>\n",
       "  <tbody>\n",
       "    <tr>\n",
       "      <th>1494</th>\n",
       "      <td>174.31</td>\n",
       "      <td>64.81</td>\n",
       "      <td>1</td>\n",
       "    </tr>\n",
       "    <tr>\n",
       "      <th>1995</th>\n",
       "      <td>160.18</td>\n",
       "      <td>54.73</td>\n",
       "      <td>1</td>\n",
       "    </tr>\n",
       "    <tr>\n",
       "      <th>1209</th>\n",
       "      <td>178.04</td>\n",
       "      <td>67.51</td>\n",
       "      <td>1</td>\n",
       "    </tr>\n",
       "    <tr>\n",
       "      <th>796</th>\n",
       "      <td>170.74</td>\n",
       "      <td>73.57</td>\n",
       "      <td>1</td>\n",
       "    </tr>\n",
       "    <tr>\n",
       "      <th>515</th>\n",
       "      <td>179.55</td>\n",
       "      <td>65.47</td>\n",
       "      <td>1</td>\n",
       "    </tr>\n",
       "  </tbody>\n",
       "</table>\n",
       "</div>"
      ],
      "text/plain": [
       "      Height  Weight Sex\n",
       "1494  174.31   64.81   1\n",
       "1995  160.18   54.73   1\n",
       "1209  178.04   67.51   1\n",
       "796   170.74   73.57   1\n",
       "515   179.55   65.47   1"
      ]
     },
     "execution_count": 94,
     "metadata": {},
     "output_type": "execute_result"
    }
   ],
   "source": [
    "df_train.sample(n=5)"
   ]
  },
  {
   "cell_type": "code",
   "execution_count": 4,
   "id": "bc9becf5",
   "metadata": {},
   "outputs": [
    {
     "data": {
      "text/html": [
       "<div>\n",
       "<style scoped>\n",
       "    .dataframe tbody tr th:only-of-type {\n",
       "        vertical-align: middle;\n",
       "    }\n",
       "\n",
       "    .dataframe tbody tr th {\n",
       "        vertical-align: top;\n",
       "    }\n",
       "\n",
       "    .dataframe thead th {\n",
       "        text-align: right;\n",
       "    }\n",
       "</style>\n",
       "<table border=\"1\" class=\"dataframe\">\n",
       "  <thead>\n",
       "    <tr style=\"text-align: right;\">\n",
       "      <th></th>\n",
       "      <th>Height</th>\n",
       "      <th>Weight</th>\n",
       "    </tr>\n",
       "  </thead>\n",
       "  <tbody>\n",
       "    <tr>\n",
       "      <th>count</th>\n",
       "      <td>3000.000000</td>\n",
       "      <td>3000.000000</td>\n",
       "    </tr>\n",
       "    <tr>\n",
       "      <th>mean</th>\n",
       "      <td>161.350427</td>\n",
       "      <td>68.400610</td>\n",
       "    </tr>\n",
       "    <tr>\n",
       "      <th>std</th>\n",
       "      <td>54.912719</td>\n",
       "      <td>17.041528</td>\n",
       "    </tr>\n",
       "    <tr>\n",
       "      <th>min</th>\n",
       "      <td>25.680000</td>\n",
       "      <td>8.530000</td>\n",
       "    </tr>\n",
       "    <tr>\n",
       "      <th>25%</th>\n",
       "      <td>149.502500</td>\n",
       "      <td>57.937500</td>\n",
       "    </tr>\n",
       "    <tr>\n",
       "      <th>50%</th>\n",
       "      <td>160.870000</td>\n",
       "      <td>67.370000</td>\n",
       "    </tr>\n",
       "    <tr>\n",
       "      <th>75%</th>\n",
       "      <td>171.632500</td>\n",
       "      <td>77.952500</td>\n",
       "    </tr>\n",
       "    <tr>\n",
       "      <th>max</th>\n",
       "      <td>3050.000000</td>\n",
       "      <td>485.000000</td>\n",
       "    </tr>\n",
       "  </tbody>\n",
       "</table>\n",
       "</div>"
      ],
      "text/plain": [
       "            Height       Weight\n",
       "count  3000.000000  3000.000000\n",
       "mean    161.350427    68.400610\n",
       "std      54.912719    17.041528\n",
       "min      25.680000     8.530000\n",
       "25%     149.502500    57.937500\n",
       "50%     160.870000    67.370000\n",
       "75%     171.632500    77.952500\n",
       "max    3050.000000   485.000000"
      ]
     },
     "execution_count": 4,
     "metadata": {},
     "output_type": "execute_result"
    }
   ],
   "source": [
    "df_train.describe()"
   ]
  },
  {
   "cell_type": "code",
   "execution_count": 5,
   "id": "6a6bf1fb",
   "metadata": {},
   "outputs": [
    {
     "name": "stdout",
     "output_type": "stream",
     "text": [
      "<class 'pandas.core.frame.DataFrame'>\n",
      "RangeIndex: 3000 entries, 0 to 2999\n",
      "Data columns (total 3 columns):\n",
      " #   Column  Non-Null Count  Dtype  \n",
      "---  ------  --------------  -----  \n",
      " 0   Height  3000 non-null   float64\n",
      " 1   Weight  3000 non-null   float64\n",
      " 2   Sex     3000 non-null   object \n",
      "dtypes: float64(2), object(1)\n",
      "memory usage: 70.4+ KB\n"
     ]
    }
   ],
   "source": [
    "df_train.info()"
   ]
  },
  {
   "cell_type": "code",
   "execution_count": 6,
   "id": "f49e1a01",
   "metadata": {},
   "outputs": [],
   "source": []
  },
  {
   "attachments": {},
   "cell_type": "markdown",
   "id": "0cb8f760",
   "metadata": {},
   "source": [
    "### Remove Outliers\n",
    "\n",
    "A common way to remove outliers is to use **z-scores**. Outliers are values that have z-scores that are greater than 3 or less than -3."
   ]
  },
  {
   "cell_type": "code",
   "execution_count": 11,
   "id": "16a72457",
   "metadata": {},
   "outputs": [
    {
     "data": {
      "image/png": "[encoded data removed]",
      "text/plain": [
       "<Figure size 640x480 with 1 Axes>"
      ]
     },
     "metadata": {},
     "output_type": "display_data"
    }
   ],
   "source": [
    "import matplotlib.pyplot as plt\n",
    "\n",
    "male = df_train[df_train['Sex'] == 1]\n",
    "female = df_train[df_train['Sex'] == 0]\n",
    "plt.scatter(male['Height'], male['Weight'], label=\"Male\")\n",
    "plt.scatter(female['Height'], female['Weight'], label=\"Female\")\n",
    "plt.legend([\"Male\", \"Female\"])\n",
    "plt.xlabel(\"Height (in cm)\")\n",
    "plt.ylabel(\"Weight (in kg)\")\n",
    "plt.show()"
   ]
  },
  {
   "cell_type": "code",
   "execution_count": 9,
   "id": "71abe248",
   "metadata": {},
   "outputs": [],
   "source": [
    "import numpy as np\n",
    "\n",
    "z_threshold = 3\n",
    "# do it twice\n",
    "for i in range(2):\n",
    "    for col in ['Height', 'Weight']:\n",
    "        data = df_train[col].values\n",
    "        # Calculate z-scores\n",
    "        z = (data - np.mean(data)) / np.std(data)\n",
    "        # Flag outliers    \n",
    "        outlier_flags = np.abs(z) > z_threshold\n",
    "        # Filter outliers from dataframe      \n",
    "        df_train = df_train[outlier_flags == False]\n"
   ]
  },
  {
   "cell_type": "code",
   "execution_count": 10,
   "id": "1c3d1d70",
   "metadata": {},
   "outputs": [
    {
     "data": {
      "text/html": [
       "<div>\n",
       "<style scoped>\n",
       "    .dataframe tbody tr th:only-of-type {\n",
       "        vertical-align: middle;\n",
       "    }\n",
       "\n",
       "    .dataframe tbody tr th {\n",
       "        vertical-align: top;\n",
       "    }\n",
       "\n",
       "    .dataframe thead th {\n",
       "        text-align: right;\n",
       "    }\n",
       "</style>\n",
       "<table border=\"1\" class=\"dataframe\">\n",
       "  <thead>\n",
       "    <tr style=\"text-align: right;\">\n",
       "      <th></th>\n",
       "      <th>Height</th>\n",
       "      <th>Weight</th>\n",
       "    </tr>\n",
       "  </thead>\n",
       "  <tbody>\n",
       "    <tr>\n",
       "      <th>count</th>\n",
       "      <td>2985.000000</td>\n",
       "      <td>2985.000000</td>\n",
       "    </tr>\n",
       "    <tr>\n",
       "      <th>mean</th>\n",
       "      <td>160.467668</td>\n",
       "      <td>68.194804</td>\n",
       "    </tr>\n",
       "    <tr>\n",
       "      <th>std</th>\n",
       "      <td>14.899290</td>\n",
       "      <td>15.027508</td>\n",
       "    </tr>\n",
       "    <tr>\n",
       "      <th>min</th>\n",
       "      <td>115.940000</td>\n",
       "      <td>24.140000</td>\n",
       "    </tr>\n",
       "    <tr>\n",
       "      <th>25%</th>\n",
       "      <td>149.520000</td>\n",
       "      <td>57.940000</td>\n",
       "    </tr>\n",
       "    <tr>\n",
       "      <th>50%</th>\n",
       "      <td>160.860000</td>\n",
       "      <td>67.310000</td>\n",
       "    </tr>\n",
       "    <tr>\n",
       "      <th>75%</th>\n",
       "      <td>171.620000</td>\n",
       "      <td>77.790000</td>\n",
       "    </tr>\n",
       "    <tr>\n",
       "      <th>max</th>\n",
       "      <td>202.670000</td>\n",
       "      <td>113.090000</td>\n",
       "    </tr>\n",
       "  </tbody>\n",
       "</table>\n",
       "</div>"
      ],
      "text/plain": [
       "            Height       Weight\n",
       "count  2985.000000  2985.000000\n",
       "mean    160.467668    68.194804\n",
       "std      14.899290    15.027508\n",
       "min     115.940000    24.140000\n",
       "25%     149.520000    57.940000\n",
       "50%     160.860000    67.310000\n",
       "75%     171.620000    77.790000\n",
       "max     202.670000   113.090000"
      ]
     },
     "execution_count": 10,
     "metadata": {},
     "output_type": "execute_result"
    }
   ],
   "source": [
    "df_train.describe()"
   ]
  },
  {
   "cell_type": "markdown",
   "id": "d7bdaed4",
   "metadata": {},
   "source": [
    "### Encode `str` categories as `int`s"
   ]
  },
  {
   "cell_type": "code",
   "execution_count": null,
   "id": "af059ab0",
   "metadata": {},
   "outputs": [],
   "source": [
    "df_train.loc[df_train['Sex'] == 'Male',  'Sex'] = 1\n",
    "df_train.loc[df_train['Sex'] == 'Female','Sex'] = 0\n",
    "df_test.loc[df_test['Sex']   == 'Male',  'Sex'] = 1\n",
    "df_test.loc[df_test['Sex']   == 'Female','Sex'] = 0\n",
    "\n",
    "# also make a dictionary mapping from category number to name (and reverse)\n",
    "i_to_sex = {1: 'Male', 0: 'Female'}\n",
    "sex_to_i = {'Male': 1, 'Female': 0}"
   ]
  },
  {
   "cell_type": "markdown",
   "id": "e82bac7e",
   "metadata": {},
   "source": [
    "### Plot the data"
   ]
  },
  {
   "cell_type": "code",
   "execution_count": 13,
   "id": "9b1f7b85",
   "metadata": {},
   "outputs": [
    {
     "data": {
      "image/png": "[encoded data removed]",
      "text/plain": [
       "<Figure size 1000x500 with 2 Axes>"
      ]
     },
     "metadata": {},
     "output_type": "display_data"
    }
   ],
   "source": [
    "# Define data and labels\n",
    "height_data = df_train['Height'].dropna().values\n",
    "weight_data = df_train['Weight'].dropna().values\n",
    "\n",
    "# Create subplots\n",
    "fig, (ax1, ax2) = plt.subplots(1, 2, figsize=(10, 5))\n",
    "\n",
    "# Create boxplots for height and weight\n",
    "ax1.boxplot(height_data)\n",
    "ax1.set_title('Height')\n",
    "ax1.set_ylabel('(cm)')\n",
    "\n",
    "ax2.boxplot(weight_data)\n",
    "ax2.set_title('Weight')\n",
    "ax2.set_ylabel('(kg)')\n",
    "\n",
    "# Display the plot\n",
    "plt.show()"
   ]
  },
  {
   "cell_type": "code",
   "execution_count": 42,
   "id": "fb1fffdd",
   "metadata": {},
   "outputs": [],
   "source": [
    "import torch\n",
    "from torch import nn\n",
    "from torch import optim\n",
    "import torch.nn.functional as F\n",
    "\n",
    "class NeuralNetwork(nn.Module):\n",
    "\n",
    "    def __init__(self, n_input, n_hidden, n_output):\n",
    "        super().__init__()\n",
    "\n",
    "        self.linear1 = nn.Linear(n_input, n_hidden)\n",
    "        self.relu1 = nn.LeakyReLU(inplace=True)\n",
    "        self.linear2 = nn.Linear(n_hidden, n_output)\n",
    "\n",
    "        # weights\n",
    "        nn.init.xavier_uniform_(self.linear1.weight)\n",
    "        nn.init.xavier_uniform_(self.linear2.weight)\n",
    "        # biases\n",
    "        nn.init.constant_(self.linear1.bias, 0)\n",
    "        nn.init.constant_(self.linear2.bias, 0)\n",
    "\n",
    "\n",
    "    def forward(self, x):\n",
    "        x = self.linear1(x)\n",
    "        x = self.relu1(x)\n",
    "        x = self.linear2(x)\n",
    "        return x"
   ]
  },
  {
   "cell_type": "code",
   "execution_count": 71,
   "id": "41dbf810",
   "metadata": {},
   "outputs": [],
   "source": [
    "# Create the model\n",
    "model = NeuralNetwork(2, 3, 1)\n",
    "# Loss Function: Binary Classification Error with Logits (logits are pre-activation values of the output)\n",
    "loss_fn = nn.BCEWithLogitsLoss()\n",
    "# Minimization algorithm\n",
    "optimizer = optim.Adam(model.parameters(), lr=0.001)"
   ]
  },
  {
   "cell_type": "code",
   "execution_count": 81,
   "id": "8ab1fa19",
   "metadata": {},
   "outputs": [],
   "source": [
    "# Define the input and output data\n",
    "train_inputs = torch.tensor(df_train[[\"Height\", \"Weight\"]].values, dtype=torch.float32)\n",
    "train_outputs = torch.tensor(df_train[\"Sex\"].astype(int).values, dtype=torch.float32).view(-1, 1)\n",
    "# normalize input data (better for learning)\n",
    "train_inputs_norm = (train_inputs - torch.mean(train_inputs, dim=0)) / torch.std(train_inputs, dim=0)\n",
    "\n",
    "test_inputs = torch.tensor(df_test[[\"Height\", \"Weight\"]].values, dtype=torch.float32)\n",
    "test_outputs = torch.tensor(df_test[\"Sex\"].astype(int).values, dtype=torch.float32).view(-1, 1)\n",
    "# normalize input data (better for learning)\n",
    "test_inputs_norm = (test_inputs - torch.mean(test_inputs, dim=0)) / torch.std(test_inputs, dim=0)"
   ]
  },
  {
   "cell_type": "code",
   "execution_count": 96,
   "id": "01665f90",
   "metadata": {},
   "outputs": [
    {
     "name": "stdout",
     "output_type": "stream",
     "text": [
      "train_input: torch.Size([2985, 2]) torch.FloatTensor\n",
      "tensor([[ 0.3478, -2.1817],\n",
      "        [-0.8012,  0.4162],\n",
      "        [ 0.4411,  0.8668],\n",
      "        [ 0.0720,  0.2179],\n",
      "        [ 0.9291,  0.6645]])\n",
      "\n",
      "train_output: torch.Size([2985, 1]) torch.FloatTensor\n",
      "tensor([[0.],\n",
      "        [0.],\n",
      "        [1.],\n",
      "        [1.],\n",
      "        [1.]])\n"
     ]
    }
   ],
   "source": [
    "print('train_input:', train_inputs_norm.shape, train_inputs_norm.type())\n",
    "print(train_inputs_norm[:5])\n",
    "print('')\n",
    "print('train_output:', train_outputs.shape, train_outputs.type())\n",
    "print(train_outputs[:5])"
   ]
  },
  {
   "cell_type": "code",
   "execution_count": 79,
   "id": "5b55749a",
   "metadata": {},
   "outputs": [],
   "source": [
    "train_losses = []\n",
    "epochs = []"
   ]
  },
  {
   "attachments": {},
   "cell_type": "markdown",
   "id": "b8285961",
   "metadata": {},
   "source": [
    "### Training Loop"
   ]
  },
  {
   "cell_type": "code",
   "execution_count": 85,
   "id": "8ceda08b",
   "metadata": {
    "tags": []
   },
   "outputs": [
    {
     "data": {
      "image/png": "[encoded data removed]",
      "text/plain": [
       "<Figure size 640x480 with 1 Axes>"
      ]
     },
     "metadata": {},
     "output_type": "display_data"
    }
   ],
   "source": [
    "num_epochs = 1000 # determines how many times to pass the entire dataset to the model\n",
    "\n",
    "for epoch in range(num_epochs):\n",
    "\n",
    "    # Step 1. Forward pass: compute predicted y by passing x to the model.\n",
    "    output = model(train_inputs_norm)\n",
    "\n",
    "    # Step 2. Calculate the loss\n",
    "    loss = loss_fn(output, train_outputs)\n",
    "\n",
    "    # Step 3. Backward pass: compute gradient of the loss with respect to model parameters\n",
    "    # But, first, reset the gradients from the previous loop iteration\n",
    "    optimizer.zero_grad()\n",
    "    loss.backward()\n",
    "\n",
    "    # Step 4. Update the weights\n",
    "    optimizer.step()\n",
    "\n",
    "    # Record loss and epoch values (used for plot)\n",
    "    if (epoch + 1) % 100 == 0:\n",
    "        train_losses.append(loss.item())\n",
    "        epochs.append(epoch)\n",
    "\n",
    "plt.plot(np.arange(len(epochs)), train_losses)\n",
    "plt.title('Training Loss over Time')\n",
    "plt.xlabel('Epoch')\n",
    "plt.ylabel('Loss')\n",
    "plt.show()"
   ]
  },
  {
   "attachments": {},
   "cell_type": "markdown",
   "id": "71c1ab93",
   "metadata": {},
   "source": [
    "### Evaluate the model on the test set"
   ]
  },
  {
   "cell_type": "code",
   "execution_count": 86,
   "id": "3b2b0fe3",
   "metadata": {},
   "outputs": [
    {
     "name": "stdout",
     "output_type": "stream",
     "text": [
      "Accuracy:  86.83%\n",
      "Precision: 90.72%\n",
      "Recall:    83.02%\n",
      "F1 Score:  0.867\n"
     ]
    }
   ],
   "source": [
    "threshold = 0.5\n",
    "model.eval() # see: https://cs230.stanford.edu/blog/pytorch/#training-vs-evaluation\n",
    "with torch.no_grad():\n",
    "    pred = model(test_inputs_norm)\n",
    "    pred = (pred > threshold).float()\n",
    "\n",
    "# TP + TN / (TP + TN + FP + FN)\n",
    "accuracy = torch.sum(pred == test_outputs) / len(test_outputs)\n",
    "\n",
    "# True Positives (TP): correctly predicted as positive\n",
    "TP = ((pred == 1) & (test_outputs == 1)).sum().item()\n",
    "\n",
    "# False Positives (FP): incorrectly predicted as positive\n",
    "FP = ((pred == 1) & (test_outputs == 0)).sum().item()\n",
    "\n",
    "# False Negatives (FN): incorrectly predicted as negative\n",
    "FN = ((pred == 0) & (test_outputs == 1)).sum().item()\n",
    "\n",
    "precision = TP / (TP + FP)\n",
    "recall = TP / (TP + FN)\n",
    "\n",
    "f1 = 2 * (precision * recall) / (precision + recall)\n",
    "\n",
    "print(f\"Accuracy:  {accuracy * 100:.2f}%\")\n",
    "print(f\"Precision: {precision * 100:.2f}%\")\n",
    "print(f\"Recall:    {recall * 100:.2f}%\")\n",
    "print(f\"F1 Score:  {f1:.3f}\")"
   ]
  }
 ],
 "metadata": {
  "kernelspec": {
   "display_name": "Python 3 (ipykernel)",
   "language": "python",
   "name": "python3"
  },
  "language_info": {
   "codemirror_mode": {
    "name": "ipython",
    "version": 3
   },
   "file_extension": ".py",
   "mimetype": "text/x-python",
   "name": "python",
   "nbconvert_exporter": "python",
   "pygments_lexer": "ipython3",
   "version": "3.10.9"
  }
 },
 "nbformat": 4,
 "nbformat_minor": 5
}
